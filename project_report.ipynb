{
 "cells": [
  {
   "cell_type": "markdown",
   "metadata": {},
   "source": [
    "# KNN Classification of Weather"
   ]
  },
  {
   "cell_type": "markdown",
   "metadata": {},
   "source": [
    "## Introduction"
   ]
  },
  {
   "cell_type": "markdown",
   "metadata": {},
   "source": [
    "Weather warnings are important forecasts because they are used to protect life and property. Especially in Seattle, a city that rains often, forecasts are made based on temperature, precipitation to help determine future climate expectations. These forecasts help business and farmers plan for power usage, irrigation and protection and also help people plan activities and dress for the weather accordingly. \n",
    " \n",
    "This model aims to answer the question: **can we classify weather using daily precipitation, wind speed and average temperature as predictors**? The data set we obtained (source: https://www.kaggle.com/ananthr1/weather-prediction) contains daily observations of weather in Seattle, Washington between 2012 to 2015. The set of variables per observation in this data set is:\n",
    "- date: the date of the observation\n",
    "- precipitation: the amount of precipitation in any form (cm)\n",
    "- temp_max: the maximum temperature (Celsius)\n",
    "- temp_min: the minimum temperature (Celsius)\n",
    "- wind: the wind speed (mph)\n",
    "- weather: the type of weather (drizzle, rain, sun, snow, fog)\n",
    "\n",
    "By understanding the relationships among these variables, it helps meteorologists better predict the weather for the public. Note that the original data set did not provide units, so we made a reasonable guess for each variable. (For example, 10°C is more reasonable than 10°F for temperature)"
   ]
  },
  {
   "cell_type": "markdown",
   "metadata": {},
   "source": [
    "## Exploring the Dataset"
   ]
  },
  {
   "cell_type": "code",
   "execution_count": null,
   "metadata": {},
   "outputs": [
    {
     "name": "stderr",
     "output_type": "stream",
     "text": [
      "Warning message in install.packages(\"themis\"):\n",
      "“installation of package ‘themis’ had non-zero exit status”\n",
      "Updating HTML index of packages in '.Library'\n",
      "\n"
     ]
    }
   ],
   "source": [
    "# Run this code to set up the notebook\n",
    "install.packages(\"themis\")\n",
    "\n",
    "library(tidyverse)\n",
    "library(repr)\n",
    "library(tidymodels)\n",
    "require(\"devtools\")\n",
    "library(\"themis\")\n",
    "options(repr.matrix.max.rows = 6)\n",
    "install.packages(\"knitr\")\n",
    "library(knitr)"
   ]
  },
  {
   "cell_type": "code",
   "execution_count": 3,
   "metadata": {},
   "outputs": [
    {
     "name": "stderr",
     "output_type": "stream",
     "text": [
      "Parsed with column specification:\n",
      "cols(\n",
      "  date = \u001b[34mcol_date(format = \"\")\u001b[39m,\n",
      "  precipitation = \u001b[32mcol_double()\u001b[39m,\n",
      "  temp_max = \u001b[32mcol_double()\u001b[39m,\n",
      "  temp_min = \u001b[32mcol_double()\u001b[39m,\n",
      "  wind = \u001b[32mcol_double()\u001b[39m,\n",
      "  weather = \u001b[31mcol_character()\u001b[39m\n",
      ")\n",
      "\n"
     ]
    },
    {
     "data": {
      "text/html": [
       "<table>\n",
       "<caption>A spec_tbl_df: 1461 × 7</caption>\n",
       "<thead>\n",
       "\t<tr><th scope=col>date</th><th scope=col>precipitation</th><th scope=col>temp_max</th><th scope=col>temp_min</th><th scope=col>wind</th><th scope=col>weather</th><th scope=col>temp_avg</th></tr>\n",
       "\t<tr><th scope=col>&lt;date&gt;</th><th scope=col>&lt;dbl&gt;</th><th scope=col>&lt;dbl&gt;</th><th scope=col>&lt;dbl&gt;</th><th scope=col>&lt;dbl&gt;</th><th scope=col>&lt;fct&gt;</th><th scope=col>&lt;dbl&gt;</th></tr>\n",
       "</thead>\n",
       "<tbody>\n",
       "\t<tr><td>2012-01-01</td><td> 0.0</td><td>12.8</td><td>5.0</td><td>4.7</td><td>drizzle</td><td>8.90</td></tr>\n",
       "\t<tr><td>2012-01-02</td><td>10.9</td><td>10.6</td><td>2.8</td><td>4.5</td><td>rain   </td><td>6.70</td></tr>\n",
       "\t<tr><td>2012-01-03</td><td> 0.8</td><td>11.7</td><td>7.2</td><td>2.3</td><td>rain   </td><td>9.45</td></tr>\n",
       "\t<tr><td>⋮</td><td>⋮</td><td>⋮</td><td>⋮</td><td>⋮</td><td>⋮</td><td>⋮</td></tr>\n",
       "\t<tr><td>2015-12-29</td><td>0</td><td>7.2</td><td> 0.6</td><td>2.6</td><td>fog</td><td>3.90</td></tr>\n",
       "\t<tr><td>2015-12-30</td><td>0</td><td>5.6</td><td>-1.0</td><td>3.4</td><td>sun</td><td>2.30</td></tr>\n",
       "\t<tr><td>2015-12-31</td><td>0</td><td>5.6</td><td>-2.1</td><td>3.5</td><td>sun</td><td>1.75</td></tr>\n",
       "</tbody>\n",
       "</table>\n"
      ],
      "text/latex": [
       "A spec\\_tbl\\_df: 1461 × 7\n",
       "\\begin{tabular}{lllllll}\n",
       " date & precipitation & temp\\_max & temp\\_min & wind & weather & temp\\_avg\\\\\n",
       " <date> & <dbl> & <dbl> & <dbl> & <dbl> & <fct> & <dbl>\\\\\n",
       "\\hline\n",
       "\t 2012-01-01 &  0.0 & 12.8 & 5.0 & 4.7 & drizzle & 8.90\\\\\n",
       "\t 2012-01-02 & 10.9 & 10.6 & 2.8 & 4.5 & rain    & 6.70\\\\\n",
       "\t 2012-01-03 &  0.8 & 11.7 & 7.2 & 2.3 & rain    & 9.45\\\\\n",
       "\t ⋮ & ⋮ & ⋮ & ⋮ & ⋮ & ⋮ & ⋮\\\\\n",
       "\t 2015-12-29 & 0 & 7.2 &  0.6 & 2.6 & fog & 3.90\\\\\n",
       "\t 2015-12-30 & 0 & 5.6 & -1.0 & 3.4 & sun & 2.30\\\\\n",
       "\t 2015-12-31 & 0 & 5.6 & -2.1 & 3.5 & sun & 1.75\\\\\n",
       "\\end{tabular}\n"
      ],
      "text/markdown": [
       "\n",
       "A spec_tbl_df: 1461 × 7\n",
       "\n",
       "| date &lt;date&gt; | precipitation &lt;dbl&gt; | temp_max &lt;dbl&gt; | temp_min &lt;dbl&gt; | wind &lt;dbl&gt; | weather &lt;fct&gt; | temp_avg &lt;dbl&gt; |\n",
       "|---|---|---|---|---|---|---|\n",
       "| 2012-01-01 |  0.0 | 12.8 | 5.0 | 4.7 | drizzle | 8.90 |\n",
       "| 2012-01-02 | 10.9 | 10.6 | 2.8 | 4.5 | rain    | 6.70 |\n",
       "| 2012-01-03 |  0.8 | 11.7 | 7.2 | 2.3 | rain    | 9.45 |\n",
       "| ⋮ | ⋮ | ⋮ | ⋮ | ⋮ | ⋮ | ⋮ |\n",
       "| 2015-12-29 | 0 | 7.2 |  0.6 | 2.6 | fog | 3.90 |\n",
       "| 2015-12-30 | 0 | 5.6 | -1.0 | 3.4 | sun | 2.30 |\n",
       "| 2015-12-31 | 0 | 5.6 | -2.1 | 3.5 | sun | 1.75 |\n",
       "\n"
      ],
      "text/plain": [
       "     date       precipitation temp_max temp_min wind weather temp_avg\n",
       "1    2012-01-01  0.0          12.8     5.0      4.7  drizzle 8.90    \n",
       "2    2012-01-02 10.9          10.6     2.8      4.5  rain    6.70    \n",
       "3    2012-01-03  0.8          11.7     7.2      2.3  rain    9.45    \n",
       "⋮    ⋮          ⋮             ⋮        ⋮        ⋮    ⋮       ⋮       \n",
       "1459 2015-12-29 0             7.2       0.6     2.6  fog     3.90    \n",
       "1460 2015-12-30 0             5.6      -1.0     3.4  sun     2.30    \n",
       "1461 2015-12-31 0             5.6      -2.1     3.5  sun     1.75    "
      ]
     },
     "metadata": {},
     "output_type": "display_data"
    }
   ],
   "source": [
    "# Read the data into R (provided by https://www.kaggle.com/ananthr1/weather-prediction)\n",
    "weather_data <- read_csv(\"https://raw.githubusercontent.com/irisxu02/dsci100-group13/main/weather.csv\") %>%\n",
    "    mutate(weather = as_factor(weather),\n",
    "           temp_avg = (temp_max + temp_min)/2)\n",
    "weather_data"
   ]
  },
  {
   "cell_type": "markdown",
   "metadata": {},
   "source": [
    "Now that we have tidy data, we would like to perform a summary to see how many observations of each type of weather we have. Is our data evenly distributed? "
   ]
  },
  {
   "cell_type": "code",
   "execution_count": 4,
   "metadata": {},
   "outputs": [
    {
     "name": "stderr",
     "output_type": "stream",
     "text": [
      "`summarise()` ungrouping output (override with `.groups` argument)\n",
      "\n"
     ]
    },
    {
     "data": {
      "text/plain": [
       "\n",
       "\n",
       "Table: The number of observations recorded for each type of weather\n",
       "\n",
       "|weather |   n|\n",
       "|:-------|---:|\n",
       "|drizzle |  53|\n",
       "|rain    | 641|\n",
       "|sun     | 640|\n",
       "|snow    |  26|\n",
       "|fog     | 101|"
      ]
     },
     "metadata": {},
     "output_type": "display_data"
    }
   ],
   "source": [
    "# Count the number of observations for each weather type\n",
    "weather_data_count <- weather_data %>%\n",
    "    group_by(weather) %>%\n",
    "    summarize(n = n())\n",
    "kable(weather_data_count, caption = \"The number of observations recorded for each type of weather\")"
   ]
  },
  {
   "cell_type": "markdown",
   "metadata": {},
   "source": [
    "Our data is highly unbalanced with respect to our predictor variable. For this reason, we will upsample the rare weather in our data analysis."
   ]
  },
  {
   "cell_type": "markdown",
   "metadata": {},
   "source": [
    "### Visualization"
   ]
  },
  {
   "cell_type": "markdown",
   "metadata": {},
   "source": [
    "We want to provide a plot of the data so we can get a visual overview of what we are working with."
   ]
  },
  {
   "cell_type": "code",
   "execution_count": 2,
   "metadata": {},
   "outputs": [
    {
     "ename": "ERROR",
     "evalue": "Error in weather_data %>% mutate(scaled_precipitation = scale(precipitation, : could not find function \"%>%\"\n",
     "output_type": "error",
     "traceback": [
      "Error in weather_data %>% mutate(scaled_precipitation = scale(precipitation, : could not find function \"%>%\"\nTraceback:\n"
     ]
    }
   ],
   "source": [
    "options(repr.plot.width = 14, repr.plot.height = 7)\n",
    "# Scale the weather data\n",
    "weather_data_scaled <- weather_data %>%\n",
    "    mutate(scaled_precipitation = scale(precipitation, center = TRUE),\n",
    "          scaled_wind = scale(wind, center = TRUE),\n",
    "          scaled_temp_avg = scale(temp_avg, center = TRUE))\n",
    "# Create a scatterplot using ggplot\n",
    "plot <- weather_data_scaled %>% \n",
    "    ggplot(aes(x = scaled_wind, y = scaled_precipitation)) +\n",
    "    geom_point(aes(color = weather), alpha = 0.5) +\n",
    "    labs(title = \"Weather as Related to Wind Speed and Precipitation\", color = \"Type of Weather\") +\n",
    "    xlab(\"Wind Speed (standardized)\") +\n",
    "    ylab(\"Precipitation (standardized)\") +\n",
    "    theme(text = element_text(size = 20), plot.title = element_text(hjust = 0.5))\n",
    "plot\n",
    "\n",
    "plot2 <- weather_data_scaled %>% \n",
    "    ggplot(aes(x = scaled_temp_avg, y = scaled_precipitation)) +\n",
    "    geom_point(aes(color = weather), alpha = 0.5) +\n",
    "    labs(title = \"Weather as Related to Average Temperature and Precipitation\", color = \"Type of Weather\") +\n",
    "    xlab(\"Average Temperature (standardized)\") +\n",
    "    ylab(\"Precipitation (standardized)\") +\n",
    "    theme(text = element_text(size = 20), plot.title = element_text(hjust = 0.5))\n",
    "plot2\n",
    "\n",
    "plot3 <- weather_data_scaled %>% \n",
    "    ggplot(aes(x = scaled_temp_avg, y = scaled_wind)) +\n",
    "    geom_point(aes(color = weather), alpha = 0.5) +\n",
    "    labs(title = \"Weather as Related to Average Temperature and Wind Speed\", color = \"Type of Weather\") +\n",
    "    xlab(\"Average Temperature (standardized)\") +\n",
    "    ylab(\"Wind Speed (standardized)\") +\n",
    "    theme(text = element_text(size = 20), plot.title = element_text(hjust = 0.5))\n",
    "plot3\n",
    "\n",
    "facet_wrap(plot, plot2, plot3)"
   ]
  },
  {
   "cell_type": "markdown",
   "metadata": {},
   "source": [
    "To explore our data, we made two graphs showing the relationships among the three predictors we plan to use; wind speed, precipitation, and average temperature. We chose to not focus on how the date affects weather because that would direct our focus on just Seattle itself. The weathers that correlate to the dates in this dataset are specific for Seattle, but we wanted to focus on other variables that will apply to other areas as well to classify weather. That way, our findings will be more relevent for a wider range of areas in the world.\n",
    "\n",
    "**We will explain why we chose these specific three predictors to classify type of weather later in this section.** \n",
    "\n",
    "Just observing all three graphs, we see that rain is the most common weather among both graphs. The majority of all the weathers are near the middle (average) regions for wind speed and on the lower end (below average) for precipitation. Rain and snow are below average temperatures whereas sun is above average temperture. The rest of the weather types quite scattered when it comes to average temperature, making it difficult to draw any specific conclusions. From these graphs, we cannot determine significant correlations, thus more tests are needed to decide which predicors we plan to use. In order to do this, we will do forward selection."
   ]
  },
  {
   "cell_type": "markdown",
   "metadata": {},
   "source": [
    "## Data Analysis"
   ]
  },
  {
   "cell_type": "markdown",
   "metadata": {},
   "source": [
    "### Method Overview"
   ]
  },
  {
   "cell_type": "markdown",
   "metadata": {},
   "source": [
    "Here we will do forward selection to determine which specific predictors we can use to predict the weather with optimal accuracy. \n",
    "\n",
    "We will then split the data into training and testing sets with a 75%/25% train/test proportion and set the strata argument to weather since that is what we intend to classify.\n",
    "Our next step is to find the best K nearest neighbor that will render us highest accuracy. \n",
    "This process includes performing a 5-fold cross-validation, splitting the training set and preprocessing the data by specifying a recipe. We will upsample our data because, as described above, there is heavy imbalance among the weather types.\n",
    "After scaling and centering on all predictors, we will specify a model using nearest_neighbors, setting the neighbors = tune(). The workflow function will allow us to chain together our recipe and model and the tune_grid function will fit the model for each value in a range of parameter values. We will then plot parameter values against an accuracy estimate to visually determine best K value (with the highest accuracy).\n",
    "With that new K value, we will create a new model specification with what we found for K and retrain the classifier using the fit function. After creating a new workflow which includes the new model specification, we will use the predict function to evaluate the estimated accuracy of the classifier on the test set."
   ]
  },
  {
   "cell_type": "markdown",
   "metadata": {},
   "source": [
    "### Forward Selection"
   ]
  },
  {
   "cell_type": "code",
   "execution_count": 5,
   "metadata": {},
   "outputs": [
    {
     "data": {
      "text/html": [
       "<style>\n",
       ".list-inline {list-style: none; margin:0; padding: 0}\n",
       ".list-inline>li {display: inline-block}\n",
       ".list-inline>li:not(:last-child)::after {content: \"\\00b7\"; padding: 0 .5ex}\n",
       "</style>\n",
       "<ol class=list-inline><li>'date'</li><li>'precipitation'</li><li>'temp_max'</li><li>'temp_min'</li><li>'wind'</li></ol>\n"
      ],
      "text/latex": [
       "\\begin{enumerate*}\n",
       "\\item 'date'\n",
       "\\item 'precipitation'\n",
       "\\item 'temp\\_max'\n",
       "\\item 'temp\\_min'\n",
       "\\item 'wind'\n",
       "\\end{enumerate*}\n"
      ],
      "text/markdown": [
       "1. 'date'\n",
       "2. 'precipitation'\n",
       "3. 'temp_max'\n",
       "4. 'temp_min'\n",
       "5. 'wind'\n",
       "\n",
       "\n"
      ],
      "text/plain": [
       "[1] \"date\"          \"precipitation\" \"temp_max\"      \"temp_min\"     \n",
       "[5] \"wind\"         "
      ]
     },
     "metadata": {},
     "output_type": "display_data"
    }
   ],
   "source": [
    "names <- colnames(weather_data %>% select(-weather, -temp_avg))\n",
    "names"
   ]
  },
  {
   "cell_type": "code",
   "execution_count": 6,
   "metadata": {},
   "outputs": [
    {
     "data": {
      "text/html": [
       "<table>\n",
       "<caption>A tibble: 5 × 3</caption>\n",
       "<thead>\n",
       "\t<tr><th scope=col>size</th><th scope=col>model_string</th><th scope=col>accuracy</th></tr>\n",
       "\t<tr><th scope=col>&lt;int&gt;</th><th scope=col>&lt;chr&gt;</th><th scope=col>&lt;dbl&gt;</th></tr>\n",
       "</thead>\n",
       "<tbody>\n",
       "\t<tr><td>1</td><td>weather ~ date                                     </td><td>0.6215087</td></tr>\n",
       "\t<tr><td>2</td><td>weather ~ date+precipitation                       </td><td>0.7987797</td></tr>\n",
       "\t<tr><td>3</td><td>weather ~ date+precipitation+temp_min              </td><td>0.7337557</td></tr>\n",
       "\t<tr><td>4</td><td>weather ~ date+precipitation+temp_min+temp_max     </td><td>0.7105007</td></tr>\n",
       "\t<tr><td>5</td><td>weather ~ date+precipitation+temp_min+temp_max+wind</td><td>0.6844500</td></tr>\n",
       "</tbody>\n",
       "</table>\n"
      ],
      "text/latex": [
       "A tibble: 5 × 3\n",
       "\\begin{tabular}{lll}\n",
       " size & model\\_string & accuracy\\\\\n",
       " <int> & <chr> & <dbl>\\\\\n",
       "\\hline\n",
       "\t 1 & weather \\textasciitilde{} date                                      & 0.6215087\\\\\n",
       "\t 2 & weather \\textasciitilde{} date+precipitation                        & 0.7987797\\\\\n",
       "\t 3 & weather \\textasciitilde{} date+precipitation+temp\\_min               & 0.7337557\\\\\n",
       "\t 4 & weather \\textasciitilde{} date+precipitation+temp\\_min+temp\\_max      & 0.7105007\\\\\n",
       "\t 5 & weather \\textasciitilde{} date+precipitation+temp\\_min+temp\\_max+wind & 0.6844500\\\\\n",
       "\\end{tabular}\n"
      ],
      "text/markdown": [
       "\n",
       "A tibble: 5 × 3\n",
       "\n",
       "| size &lt;int&gt; | model_string &lt;chr&gt; | accuracy &lt;dbl&gt; |\n",
       "|---|---|---|\n",
       "| 1 | weather ~ date                                      | 0.6215087 |\n",
       "| 2 | weather ~ date+precipitation                        | 0.7987797 |\n",
       "| 3 | weather ~ date+precipitation+temp_min               | 0.7337557 |\n",
       "| 4 | weather ~ date+precipitation+temp_min+temp_max      | 0.7105007 |\n",
       "| 5 | weather ~ date+precipitation+temp_min+temp_max+wind | 0.6844500 |\n",
       "\n"
      ],
      "text/plain": [
       "  size model_string                                        accuracy \n",
       "1 1    weather ~ date                                      0.6215087\n",
       "2 2    weather ~ date+precipitation                        0.7987797\n",
       "3 3    weather ~ date+precipitation+temp_min               0.7337557\n",
       "4 4    weather ~ date+precipitation+temp_min+temp_max      0.7105007\n",
       "5 5    weather ~ date+precipitation+temp_min+temp_max+wind 0.6844500"
      ]
     },
     "metadata": {},
     "output_type": "display_data"
    }
   ],
   "source": [
    "# create an empty tibble to store the results\n",
    "fs_accuracies <- tibble(size = integer(), \n",
    "                     model_string = character(), \n",
    "                     accuracy = numeric())\n",
    "\n",
    "# create a model specification\n",
    "knn_tune <- nearest_neighbor(weight_func = \"rectangular\", neighbors = tune()) %>%\n",
    "     set_engine(\"kknn\") %>%\n",
    "     set_mode(\"classification\")\n",
    "\n",
    "# create a 5-fold cross-validation object\n",
    "fs_weather_vfold <- vfold_cv(weather_data, v = 5, strata = weather)\n",
    "\n",
    "# store the total number of predictors\n",
    "n_total <- length(names)\n",
    "\n",
    "# stores selected predictors\n",
    "selected <- c()\n",
    "\n",
    "# for every size from 1 to the total number of predictors\n",
    "for (i in 1:n_total) {\n",
    "    # for every predictor still not added yet\n",
    "    accs <- list()\n",
    "    models <- list()\n",
    "    for (j in 1:length(names)) {\n",
    "        # create a model string for this combination of predictors\n",
    "        preds_new <- c(selected, names[[j]])\n",
    "        model_string <- paste(\"weather\", \"~\", paste(preds_new, collapse=\"+\"))\n",
    "\n",
    "        # create a recipe from the model string\n",
    "        weather_recipe <- recipe(as.formula(model_string), data = weather_data) %>%\n",
    "                          step_upsample(weather, over_ratio = 1)\n",
    "                          step_scale(list(names)) %>%\n",
    "                          step_center(list(names))\n",
    "\n",
    "        # tune the KNN classifier with these predictors, \n",
    "        # and collect the accuracy for the best K\n",
    "        acc <- workflow() %>%\n",
    "          add_recipe(weather_recipe) %>%\n",
    "          add_model(knn_tune) %>%\n",
    "          tune_grid(resamples = fs_weather_vfold, grid = 10) %>%\n",
    "          collect_metrics() %>%\n",
    "          filter(.metric == \"accuracy\") %>%\n",
    "          summarize(mx = max(mean))\n",
    "        acc <- acc$mx %>% unlist()\n",
    "\n",
    "        # add this result to the dataframe\n",
    "        accs[[j]] <- acc\n",
    "        models[[j]] <- model_string\n",
    "    }\n",
    "    jstar <- which.max(unlist(accs))\n",
    "    fs_accuracies <- fs_accuracies %>%\n",
    "      add_row(size = i, \n",
    "              model_string = models[[jstar]], \n",
    "              accuracy = accs[[jstar]])\n",
    "    selected <- c(selected, names[[jstar]])\n",
    "    names <- names[-jstar]\n",
    "}\n",
    "fs_accuracies"
   ]
  },
  {
   "cell_type": "markdown",
   "metadata": {},
   "source": [
    "### Model Training"
   ]
  },
  {
   "cell_type": "code",
   "execution_count": 5,
   "metadata": {},
   "outputs": [],
   "source": [
    "set.seed(100)\n",
    "# We split the data set into training and testing sets\n",
    "weather_split <- initial_split(weather_data, prop = 0.75, strata = weather)\n",
    "weather_train <- training(weather_split)\n",
    "weather_test <- testing(weather_split)\n",
    "\n",
    "weather_recipe <- recipe(weather ~ precipitation + temp_avg + wind, data = weather_train) %>%\n",
    "    step_upsample(weather, over_ratio = 1, skip = FALSE) %>%\n",
    "    prep()\n",
    "\n",
    "weather_bake <- bake(weather_recipe, weather_train)"
   ]
  },
  {
   "cell_type": "code",
   "execution_count": 6,
   "metadata": {},
   "outputs": [],
   "source": [
    "knn_tune <- nearest_neighbor(weight_func = \"rectangular\", neighbors = tune()) %>%\n",
    "    set_engine(\"kknn\") %>%\n",
    "    set_mode(\"classification\")\n",
    "\n",
    "weather_recipe <- recipe(weather ~ precipitation + wind + temp_avg, data = weather_bake) %>%\n",
    "    step_scale(all_predictors()) %>%\n",
    "    step_center(all_predictors())\n",
    "\n",
    "weather_vfold <- vfold_cv(weather_train, v = 5, strata = weather)"
   ]
  },
  {
   "cell_type": "code",
   "execution_count": 7,
   "metadata": {},
   "outputs": [
    {
     "data": {
      "text/html": [
       "<table>\n",
       "<caption>A tibble: 20 × 7</caption>\n",
       "<thead>\n",
       "\t<tr><th scope=col>neighbors</th><th scope=col>.metric</th><th scope=col>.estimator</th><th scope=col>mean</th><th scope=col>n</th><th scope=col>std_err</th><th scope=col>.config</th></tr>\n",
       "\t<tr><th scope=col>&lt;int&gt;</th><th scope=col>&lt;chr&gt;</th><th scope=col>&lt;chr&gt;</th><th scope=col>&lt;dbl&gt;</th><th scope=col>&lt;int&gt;</th><th scope=col>&lt;dbl&gt;</th><th scope=col>&lt;chr&gt;</th></tr>\n",
       "</thead>\n",
       "<tbody>\n",
       "\t<tr><td>1</td><td>accuracy</td><td>multiclass</td><td>0.6865274</td><td>5</td><td>0.019286678</td><td>Model01</td></tr>\n",
       "\t<tr><td>1</td><td>roc_auc </td><td>hand_till </td><td>0.6493878</td><td>5</td><td>0.009617505</td><td>Model01</td></tr>\n",
       "\t<tr><td>2</td><td>accuracy</td><td>multiclass</td><td>0.6865274</td><td>5</td><td>0.018908018</td><td>Model02</td></tr>\n",
       "\t<tr><td>⋮</td><td>⋮</td><td>⋮</td><td>⋮</td><td>⋮</td><td>⋮</td><td>⋮</td></tr>\n",
       "\t<tr><td> 9</td><td>roc_auc </td><td>hand_till </td><td>0.7412816</td><td>5</td><td>0.01329076</td><td>Model09</td></tr>\n",
       "\t<tr><td>10</td><td>accuracy</td><td>multiclass</td><td>0.7212021</td><td>5</td><td>0.02066715</td><td>Model10</td></tr>\n",
       "\t<tr><td>10</td><td>roc_auc </td><td>hand_till </td><td>0.7443135</td><td>5</td><td>0.01645441</td><td>Model10</td></tr>\n",
       "</tbody>\n",
       "</table>\n"
      ],
      "text/latex": [
       "A tibble: 20 × 7\n",
       "\\begin{tabular}{lllllll}\n",
       " neighbors & .metric & .estimator & mean & n & std\\_err & .config\\\\\n",
       " <int> & <chr> & <chr> & <dbl> & <int> & <dbl> & <chr>\\\\\n",
       "\\hline\n",
       "\t 1 & accuracy & multiclass & 0.6865274 & 5 & 0.019286678 & Model01\\\\\n",
       "\t 1 & roc\\_auc  & hand\\_till  & 0.6493878 & 5 & 0.009617505 & Model01\\\\\n",
       "\t 2 & accuracy & multiclass & 0.6865274 & 5 & 0.018908018 & Model02\\\\\n",
       "\t ⋮ & ⋮ & ⋮ & ⋮ & ⋮ & ⋮ & ⋮\\\\\n",
       "\t  9 & roc\\_auc  & hand\\_till  & 0.7412816 & 5 & 0.01329076 & Model09\\\\\n",
       "\t 10 & accuracy & multiclass & 0.7212021 & 5 & 0.02066715 & Model10\\\\\n",
       "\t 10 & roc\\_auc  & hand\\_till  & 0.7443135 & 5 & 0.01645441 & Model10\\\\\n",
       "\\end{tabular}\n"
      ],
      "text/markdown": [
       "\n",
       "A tibble: 20 × 7\n",
       "\n",
       "| neighbors &lt;int&gt; | .metric &lt;chr&gt; | .estimator &lt;chr&gt; | mean &lt;dbl&gt; | n &lt;int&gt; | std_err &lt;dbl&gt; | .config &lt;chr&gt; |\n",
       "|---|---|---|---|---|---|---|\n",
       "| 1 | accuracy | multiclass | 0.6865274 | 5 | 0.019286678 | Model01 |\n",
       "| 1 | roc_auc  | hand_till  | 0.6493878 | 5 | 0.009617505 | Model01 |\n",
       "| 2 | accuracy | multiclass | 0.6865274 | 5 | 0.018908018 | Model02 |\n",
       "| ⋮ | ⋮ | ⋮ | ⋮ | ⋮ | ⋮ | ⋮ |\n",
       "|  9 | roc_auc  | hand_till  | 0.7412816 | 5 | 0.01329076 | Model09 |\n",
       "| 10 | accuracy | multiclass | 0.7212021 | 5 | 0.02066715 | Model10 |\n",
       "| 10 | roc_auc  | hand_till  | 0.7443135 | 5 | 0.01645441 | Model10 |\n",
       "\n"
      ],
      "text/plain": [
       "   neighbors .metric  .estimator mean      n std_err     .config\n",
       "1  1         accuracy multiclass 0.6865274 5 0.019286678 Model01\n",
       "2  1         roc_auc  hand_till  0.6493878 5 0.009617505 Model01\n",
       "3  2         accuracy multiclass 0.6865274 5 0.018908018 Model02\n",
       "⋮  ⋮         ⋮        ⋮          ⋮         ⋮ ⋮           ⋮      \n",
       "18  9        roc_auc  hand_till  0.7412816 5 0.01329076  Model09\n",
       "19 10        accuracy multiclass 0.7212021 5 0.02066715  Model10\n",
       "20 10        roc_auc  hand_till  0.7443135 5 0.01645441  Model10"
      ]
     },
     "metadata": {},
     "output_type": "display_data"
    }
   ],
   "source": [
    "knn_results <- workflow() %>%\n",
    "    add_recipe(weather_recipe) %>%\n",
    "    add_model(knn_tune)  %>%\n",
    "    tune_grid(resamples = weather_vfold, grid = tibble(neighbors = seq(1, 10))) %>%\n",
    "    collect_metrics()\n",
    "knn_results"
   ]
  },
  {
   "cell_type": "code",
   "execution_count": 8,
   "metadata": {},
   "outputs": [
    {
     "data": {
      "image/png": "[encoded data removed]",
      "text/plain": [
       "plot without title"
      ]
     },
     "metadata": {
      "image/png": {
       "height": 420,
       "width": 420
      }
     },
     "output_type": "display_data"
    }
   ],
   "source": [
    "accuracies <- knn_results %>% filter(.metric == \"accuracy\")\n",
    "\n",
    "accuracy_versus_k <- ggplot(accuracies, aes(x = neighbors, y = mean)) +\n",
    "       geom_point() +\n",
    "       geom_line() +\n",
    "       labs(x = \"Neighbors\", y = \"Accuracy Estimate\") +\n",
    "       scale_x_continuous(breaks = seq(0, 10, by = 1))  # adjusting the x-axis\n",
    "\n",
    "accuracy_versus_k"
   ]
  },
  {
   "cell_type": "markdown",
   "metadata": {},
   "source": [
    "EXPLAIN THE LIMITATIONS TO THIS GRAPH"
   ]
  },
  {
   "cell_type": "code",
   "execution_count": 9,
   "metadata": {},
   "outputs": [
    {
     "data": {
      "text/plain": [
       "══ Workflow [trained] ══════════════════════════════════════════════════════════\n",
       "\u001b[3mPreprocessor:\u001b[23m Recipe\n",
       "\u001b[3mModel:\u001b[23m nearest_neighbor()\n",
       "\n",
       "── Preprocessor ────────────────────────────────────────────────────────────────\n",
       "2 Recipe Steps\n",
       "\n",
       "● step_scale()\n",
       "● step_center()\n",
       "\n",
       "── Model ───────────────────────────────────────────────────────────────────────\n",
       "\n",
       "Call:\n",
       "kknn::train.kknn(formula = ..y ~ ., data = data, ks = ~best_k,     kernel = ~\"rectangular\")\n",
       "\n",
       "Type of response variable: nominal\n",
       "Minimal misclassification: 0.2707384\n",
       "Best kernel: rectangular\n",
       "Best k: 5"
      ]
     },
     "metadata": {},
     "output_type": "display_data"
    }
   ],
   "source": [
    "best_k <- 5\n",
    "weather_spec <- nearest_neighbor(weight_func = \"rectangular\", neighbors = best_k) %>%\n",
    "    set_engine(\"kknn\") %>%\n",
    "    set_mode(\"classification\")\n",
    "weather_fit <- workflow() %>%\n",
    "       add_recipe(weather_recipe) %>%\n",
    "       add_model(weather_spec) %>%\n",
    "       fit(data = weather_train)\n",
    "weather_fit"
   ]
  },
  {
   "cell_type": "markdown",
   "metadata": {},
   "source": [
    "### Predictions and Model Accuracy"
   ]
  },
  {
   "cell_type": "code",
   "execution_count": 10,
   "metadata": {},
   "outputs": [
    {
     "data": {
      "text/html": [
       "<table>\n",
       "<caption>A tibble: 364 × 8</caption>\n",
       "<thead>\n",
       "\t<tr><th scope=col>.pred_class</th><th scope=col>date</th><th scope=col>precipitation</th><th scope=col>temp_max</th><th scope=col>temp_min</th><th scope=col>wind</th><th scope=col>weather</th><th scope=col>temp_avg</th></tr>\n",
       "\t<tr><th scope=col>&lt;fct&gt;</th><th scope=col>&lt;date&gt;</th><th scope=col>&lt;dbl&gt;</th><th scope=col>&lt;dbl&gt;</th><th scope=col>&lt;dbl&gt;</th><th scope=col>&lt;dbl&gt;</th><th scope=col>&lt;fct&gt;</th><th scope=col>&lt;dbl&gt;</th></tr>\n",
       "</thead>\n",
       "<tbody>\n",
       "\t<tr><td>sun </td><td>2012-01-01</td><td> 0.0</td><td>12.8</td><td>5.0</td><td>4.7</td><td>drizzle</td><td>8.90</td></tr>\n",
       "\t<tr><td>rain</td><td>2012-01-02</td><td>10.9</td><td>10.6</td><td>2.8</td><td>4.5</td><td>rain   </td><td>6.70</td></tr>\n",
       "\t<tr><td>rain</td><td>2012-01-03</td><td> 0.8</td><td>11.7</td><td>7.2</td><td>2.3</td><td>rain   </td><td>9.45</td></tr>\n",
       "\t<tr><td>⋮</td><td>⋮</td><td>⋮</td><td>⋮</td><td>⋮</td><td>⋮</td><td>⋮</td><td>⋮</td></tr>\n",
       "\t<tr><td>rain</td><td>2015-12-28</td><td>1.5</td><td>5.0</td><td> 1.7</td><td>1.3</td><td>rain</td><td>3.35</td></tr>\n",
       "\t<tr><td>sun </td><td>2015-12-30</td><td>0.0</td><td>5.6</td><td>-1.0</td><td>3.4</td><td>sun </td><td>2.30</td></tr>\n",
       "\t<tr><td>sun </td><td>2015-12-31</td><td>0.0</td><td>5.6</td><td>-2.1</td><td>3.5</td><td>sun </td><td>1.75</td></tr>\n",
       "</tbody>\n",
       "</table>\n"
      ],
      "text/latex": [
       "A tibble: 364 × 8\n",
       "\\begin{tabular}{llllllll}\n",
       " .pred\\_class & date & precipitation & temp\\_max & temp\\_min & wind & weather & temp\\_avg\\\\\n",
       " <fct> & <date> & <dbl> & <dbl> & <dbl> & <dbl> & <fct> & <dbl>\\\\\n",
       "\\hline\n",
       "\t sun  & 2012-01-01 &  0.0 & 12.8 & 5.0 & 4.7 & drizzle & 8.90\\\\\n",
       "\t rain & 2012-01-02 & 10.9 & 10.6 & 2.8 & 4.5 & rain    & 6.70\\\\\n",
       "\t rain & 2012-01-03 &  0.8 & 11.7 & 7.2 & 2.3 & rain    & 9.45\\\\\n",
       "\t ⋮ & ⋮ & ⋮ & ⋮ & ⋮ & ⋮ & ⋮ & ⋮\\\\\n",
       "\t rain & 2015-12-28 & 1.5 & 5.0 &  1.7 & 1.3 & rain & 3.35\\\\\n",
       "\t sun  & 2015-12-30 & 0.0 & 5.6 & -1.0 & 3.4 & sun  & 2.30\\\\\n",
       "\t sun  & 2015-12-31 & 0.0 & 5.6 & -2.1 & 3.5 & sun  & 1.75\\\\\n",
       "\\end{tabular}\n"
      ],
      "text/markdown": [
       "\n",
       "A tibble: 364 × 8\n",
       "\n",
       "| .pred_class &lt;fct&gt; | date &lt;date&gt; | precipitation &lt;dbl&gt; | temp_max &lt;dbl&gt; | temp_min &lt;dbl&gt; | wind &lt;dbl&gt; | weather &lt;fct&gt; | temp_avg &lt;dbl&gt; |\n",
       "|---|---|---|---|---|---|---|---|\n",
       "| sun  | 2012-01-01 |  0.0 | 12.8 | 5.0 | 4.7 | drizzle | 8.90 |\n",
       "| rain | 2012-01-02 | 10.9 | 10.6 | 2.8 | 4.5 | rain    | 6.70 |\n",
       "| rain | 2012-01-03 |  0.8 | 11.7 | 7.2 | 2.3 | rain    | 9.45 |\n",
       "| ⋮ | ⋮ | ⋮ | ⋮ | ⋮ | ⋮ | ⋮ | ⋮ |\n",
       "| rain | 2015-12-28 | 1.5 | 5.0 |  1.7 | 1.3 | rain | 3.35 |\n",
       "| sun  | 2015-12-30 | 0.0 | 5.6 | -1.0 | 3.4 | sun  | 2.30 |\n",
       "| sun  | 2015-12-31 | 0.0 | 5.6 | -2.1 | 3.5 | sun  | 1.75 |\n",
       "\n"
      ],
      "text/plain": [
       "    .pred_class date       precipitation temp_max temp_min wind weather\n",
       "1   sun         2012-01-01  0.0          12.8     5.0      4.7  drizzle\n",
       "2   rain        2012-01-02 10.9          10.6     2.8      4.5  rain   \n",
       "3   rain        2012-01-03  0.8          11.7     7.2      2.3  rain   \n",
       "⋮   ⋮           ⋮          ⋮             ⋮        ⋮        ⋮    ⋮      \n",
       "362 rain        2015-12-28 1.5           5.0       1.7     1.3  rain   \n",
       "363 sun         2015-12-30 0.0           5.6      -1.0     3.4  sun    \n",
       "364 sun         2015-12-31 0.0           5.6      -2.1     3.5  sun    \n",
       "    temp_avg\n",
       "1   8.90    \n",
       "2   6.70    \n",
       "3   9.45    \n",
       "⋮   ⋮       \n",
       "362 3.35    \n",
       "363 2.30    \n",
       "364 1.75    "
      ]
     },
     "metadata": {},
     "output_type": "display_data"
    },
    {
     "data": {
      "text/html": [
       "<table>\n",
       "<caption>A tibble: 1 × 3</caption>\n",
       "<thead>\n",
       "\t<tr><th scope=col>.metric</th><th scope=col>.estimator</th><th scope=col>.estimate</th></tr>\n",
       "\t<tr><th scope=col>&lt;chr&gt;</th><th scope=col>&lt;chr&gt;</th><th scope=col>&lt;dbl&gt;</th></tr>\n",
       "</thead>\n",
       "<tbody>\n",
       "\t<tr><td>accuracy</td><td>multiclass</td><td>0.7362637</td></tr>\n",
       "</tbody>\n",
       "</table>\n"
      ],
      "text/latex": [
       "A tibble: 1 × 3\n",
       "\\begin{tabular}{lll}\n",
       " .metric & .estimator & .estimate\\\\\n",
       " <chr> & <chr> & <dbl>\\\\\n",
       "\\hline\n",
       "\t accuracy & multiclass & 0.7362637\\\\\n",
       "\\end{tabular}\n"
      ],
      "text/markdown": [
       "\n",
       "A tibble: 1 × 3\n",
       "\n",
       "| .metric &lt;chr&gt; | .estimator &lt;chr&gt; | .estimate &lt;dbl&gt; |\n",
       "|---|---|---|\n",
       "| accuracy | multiclass | 0.7362637 |\n",
       "\n"
      ],
      "text/plain": [
       "  .metric  .estimator .estimate\n",
       "1 accuracy multiclass 0.7362637"
      ]
     },
     "metadata": {},
     "output_type": "display_data"
    }
   ],
   "source": [
    "weather_predictions <- predict(weather_fit, weather_test)  %>%\n",
    "    bind_cols(weather_test)\n",
    "weather_predictions\n",
    "weather_metrics <- weather_predictions %>%\n",
    "    metrics(truth = weather, estimate = .pred_class) %>%\n",
    "    filter(.metric == \"accuracy\")\n",
    "weather_metrics"
   ]
  },
  {
   "cell_type": "markdown",
   "metadata": {},
   "source": [
    "We see that the accuracy of our model is approximately 67.9%."
   ]
  },
  {
   "cell_type": "code",
   "execution_count": 13,
   "metadata": {},
   "outputs": [
    {
     "name": "stdout",
     "output_type": "stream",
     "text": [
      "          Truth\n",
      "Prediction drizzle rain sun snow fog\n",
      "   drizzle       2    0   3    0   0\n",
      "   rain          1  125   9    4   1\n",
      "   sun          11   30 139    1  20\n",
      "   snow          0    0   0    1   0\n",
      "   fog           1    3  12    0   1\n"
     ]
    }
   ],
   "source": [
    "weather_conf_mat <- weather_predictions %>%\n",
    "    conf_mat(truth = weather, estimate = .pred_class) %>%\n",
    "    print()"
   ]
  },
  {
   "cell_type": "code",
   "execution_count": 1,
   "metadata": {},
   "outputs": [
    {
     "ename": "ERROR",
     "evalue": "Error in seq(min(weather_train$wind), max(weather_train$wind), length.out = 100): object 'weather_train' not found\n",
     "output_type": "error",
     "traceback": [
      "Error in seq(min(weather_train$wind), max(weather_train$wind), length.out = 100): object 'weather_train' not found\nTraceback:\n",
      "1. seq(min(weather_train$wind), max(weather_train$wind), length.out = 100)"
     ]
    }
   ],
   "source": [
    "# create the grid of area/smoothness vals, and arrange in a data frame\n",
    "are_grid <- seq(min(weather_train$wind), \n",
    "                max(weather_train$wind), \n",
    "                length.out = 100)\n",
    "\n",
    "smo_grid <- seq(min(weather_train$precipitation), \n",
    "                max(weather_train$precipitation), \n",
    "                length.out = 100)\n",
    "\n",
    "idk_grid <- seq(min(weather_train$temp_avg), \n",
    "                max(weather_train$temp_avg), \n",
    "                length.out = 100)\n",
    "\n",
    "asgrid <- as_tibble(expand.grid(wind = are_grid, \n",
    "                                precipitation = smo_grid,\n",
    "                               temp_avg = idk_grid))\n",
    "\n",
    "# use the fit workflow to make predictions at the grid points\n",
    "knnPredGrid <- predict(weather_fit, asgrid)\n",
    "\n",
    "# bind the predictions as a new column with the grid points\n",
    "prediction_table <- bind_cols(knnPredGrid, asgrid) %>% \n",
    "  rename(weather = .pred_class)\n",
    "\n",
    "# plot:\n",
    "# 1. the colored scatter of the original data\n",
    "# 2. the faded colored scatter for the grid points\n",
    "final_weather_plot <-\n",
    "  ggplot() +\n",
    "  geom_point(data = weather_train, \n",
    "             mapping = aes(x = wind, \n",
    "                           y = precipitation, \n",
    "                           color = weather), \n",
    "             alpha = 0.75) +\n",
    "  geom_point(data = prediction_table, \n",
    "             mapping = aes(x = wind, \n",
    "                           y = precipitation, \n",
    "                           color = weather), \n",
    "             alpha = 0.02, \n",
    "             size = 5) +\n",
    "  labs(color = \"Weather\", \n",
    "       x = \"Wind Speed (standardized)\", \n",
    "       y = \"Precipitation (standardized)\") +\n",
    "  scale_color_manual(labels = c(\"Malignant\", \"Benign\"), \n",
    "                     values = c(\"orange2\", \"steelblue2\")) +\n",
    "  theme(text = element_text(size = 12))\n",
    "\n",
    "final_weather_plot"
   ]
  },
  {
   "cell_type": "markdown",
   "metadata": {},
   "source": [
    "## Discussion"
   ]
  },
  {
   "cell_type": "markdown",
   "metadata": {},
   "source": [
    "- summarize what you found\n",
    "- discuss whether this is what you expected to find?\n",
    "- discuss what impact could such findings have?\n",
    "- discuss what future questions could this lead to?"
   ]
  },
  {
   "cell_type": "markdown",
   "metadata": {},
   "source": []
  },
  {
   "cell_type": "markdown",
   "metadata": {},
   "source": [
    "## References"
   ]
  },
  {
   "cell_type": "markdown",
   "metadata": {},
   "source": [
    "- At least 2 citations of literature relevant to the project (format is your choice, just be consistent across the references)."
   ]
  },
  {
   "cell_type": "markdown",
   "metadata": {},
   "source": [
    "R, A. (2022, January 17). Weather Prediction. Kaggle. Retrieved March 11, 2022, from https://www.kaggle.com/ananthr1/weather-prediction"
   ]
  },
  {
   "cell_type": "markdown",
   "metadata": {},
   "source": [
    "- why/how we chose predictor variables / how weather is related to these variables\n",
    "- why our question is important"
   ]
  }
 ],
 "metadata": {
  "kernelspec": {
   "display_name": "R",
   "language": "R",
   "name": "ir"
  },
  "language_info": {
   "codemirror_mode": "r",
   "file_extension": ".r",
   "mimetype": "text/x-r-source",
   "name": "R",
   "pygments_lexer": "r",
   "version": "4.0.0"
  }
 },
 "nbformat": 4,
 "nbformat_minor": 4
}
