{
 "cells": [
  {
   "cell_type": "markdown",
   "metadata": {},
   "source": [
    "# KNN Classification of Weather"
   ]
  },
  {
   "cell_type": "markdown",
   "metadata": {},
   "source": [
    "## Introduction"
   ]
  },
  {
   "cell_type": "markdown",
   "metadata": {},
   "source": [
    "Weather warnings are important forecasts because they are used to protect life and property. Especially in Seattle, a city that rains often, forecasts are made based on temperature, precipitation to help determine future climate expectations. These forecasts help business and farmers plan for power usage, irrigation and protection and also help people plan activities and dress for the weather accordingly. \n",
    " \n",
    "This model aims to answer the question: **how accurately can we classify weather using daily precipitation, wind speed and average temperature as predictors**? The data set we obtained (source: https://www.kaggle.com/ananthr1/weather-prediction) contains daily observations of weather in Seattle, Washington between 2012 to 2015. The set of variables per observation in this data set is:\n",
    "- date: the date of the observation\n",
    "- precipitation: the amount of precipitation in any form (cm)\n",
    "- temp_max: the maximum temperature (Celsius)\n",
    "- temp_min: the minimum temperature (Celsius)\n",
    "- wind: the wind speed (mph)\n",
    "- weather: the type of weather (drizzle, rain, sun, snow, fog)\n",
    "\n",
    "By understanding the relationships among these variables, it helps meteorologists better predict the weather for the public. Note that the original data set did not provide units, so we made a reasonable guess for each variable. (For example, 10°C is more reasonable than 10°F for temperature)"
   ]
  },
  {
   "cell_type": "markdown",
   "metadata": {},
   "source": [
    "## Exploring the Dataset"
   ]
  },
  {
   "cell_type": "code",
   "execution_count": 19,
   "metadata": {},
   "outputs": [],
   "source": [
    "# Run this code to set up the notebook\n",
    "library(tidyverse)\n",
    "library(repr)\n",
    "library(tidymodels)\n",
    "options(repr.matrix.max.rows = 6)"
   ]
  },
  {
   "cell_type": "code",
   "execution_count": 18,
   "metadata": {},
   "outputs": [
    {
     "name": "stderr",
     "output_type": "stream",
     "text": [
      "Parsed with column specification:\n",
      "cols(\n",
      "  date = \u001b[34mcol_date(format = \"\")\u001b[39m,\n",
      "  precipitation = \u001b[32mcol_double()\u001b[39m,\n",
      "  temp_max = \u001b[32mcol_double()\u001b[39m,\n",
      "  temp_min = \u001b[32mcol_double()\u001b[39m,\n",
      "  wind = \u001b[32mcol_double()\u001b[39m,\n",
      "  weather = \u001b[31mcol_character()\u001b[39m\n",
      ")\n",
      "\n"
     ]
    },
    {
     "data": {
      "text/html": [
       "<table>\n",
       "<caption>A spec_tbl_df: 1461 × 7</caption>\n",
       "<thead>\n",
       "\t<tr><th scope=col>date</th><th scope=col>precipitation</th><th scope=col>temp_max</th><th scope=col>temp_min</th><th scope=col>wind</th><th scope=col>weather</th><th scope=col>temp_avg</th></tr>\n",
       "\t<tr><th scope=col>&lt;date&gt;</th><th scope=col>&lt;dbl&gt;</th><th scope=col>&lt;dbl&gt;</th><th scope=col>&lt;dbl&gt;</th><th scope=col>&lt;dbl&gt;</th><th scope=col>&lt;fct&gt;</th><th scope=col>&lt;dbl&gt;</th></tr>\n",
       "</thead>\n",
       "<tbody>\n",
       "\t<tr><td>2012-01-01</td><td> 0.0</td><td>12.8</td><td>5.0</td><td>4.7</td><td>drizzle</td><td>8.90</td></tr>\n",
       "\t<tr><td>2012-01-02</td><td>10.9</td><td>10.6</td><td>2.8</td><td>4.5</td><td>rain   </td><td>6.70</td></tr>\n",
       "\t<tr><td>2012-01-03</td><td> 0.8</td><td>11.7</td><td>7.2</td><td>2.3</td><td>rain   </td><td>9.45</td></tr>\n",
       "\t<tr><td>⋮</td><td>⋮</td><td>⋮</td><td>⋮</td><td>⋮</td><td>⋮</td><td>⋮</td></tr>\n",
       "\t<tr><td>2015-12-29</td><td>0</td><td>7.2</td><td> 0.6</td><td>2.6</td><td>fog</td><td>3.90</td></tr>\n",
       "\t<tr><td>2015-12-30</td><td>0</td><td>5.6</td><td>-1.0</td><td>3.4</td><td>sun</td><td>2.30</td></tr>\n",
       "\t<tr><td>2015-12-31</td><td>0</td><td>5.6</td><td>-2.1</td><td>3.5</td><td>sun</td><td>1.75</td></tr>\n",
       "</tbody>\n",
       "</table>\n"
      ],
      "text/latex": [
       "A spec\\_tbl\\_df: 1461 × 7\n",
       "\\begin{tabular}{lllllll}\n",
       " date & precipitation & temp\\_max & temp\\_min & wind & weather & temp\\_avg\\\\\n",
       " <date> & <dbl> & <dbl> & <dbl> & <dbl> & <fct> & <dbl>\\\\\n",
       "\\hline\n",
       "\t 2012-01-01 &  0.0 & 12.8 & 5.0 & 4.7 & drizzle & 8.90\\\\\n",
       "\t 2012-01-02 & 10.9 & 10.6 & 2.8 & 4.5 & rain    & 6.70\\\\\n",
       "\t 2012-01-03 &  0.8 & 11.7 & 7.2 & 2.3 & rain    & 9.45\\\\\n",
       "\t ⋮ & ⋮ & ⋮ & ⋮ & ⋮ & ⋮ & ⋮\\\\\n",
       "\t 2015-12-29 & 0 & 7.2 &  0.6 & 2.6 & fog & 3.90\\\\\n",
       "\t 2015-12-30 & 0 & 5.6 & -1.0 & 3.4 & sun & 2.30\\\\\n",
       "\t 2015-12-31 & 0 & 5.6 & -2.1 & 3.5 & sun & 1.75\\\\\n",
       "\\end{tabular}\n"
      ],
      "text/markdown": [
       "\n",
       "A spec_tbl_df: 1461 × 7\n",
       "\n",
       "| date &lt;date&gt; | precipitation &lt;dbl&gt; | temp_max &lt;dbl&gt; | temp_min &lt;dbl&gt; | wind &lt;dbl&gt; | weather &lt;fct&gt; | temp_avg &lt;dbl&gt; |\n",
       "|---|---|---|---|---|---|---|\n",
       "| 2012-01-01 |  0.0 | 12.8 | 5.0 | 4.7 | drizzle | 8.90 |\n",
       "| 2012-01-02 | 10.9 | 10.6 | 2.8 | 4.5 | rain    | 6.70 |\n",
       "| 2012-01-03 |  0.8 | 11.7 | 7.2 | 2.3 | rain    | 9.45 |\n",
       "| ⋮ | ⋮ | ⋮ | ⋮ | ⋮ | ⋮ | ⋮ |\n",
       "| 2015-12-29 | 0 | 7.2 |  0.6 | 2.6 | fog | 3.90 |\n",
       "| 2015-12-30 | 0 | 5.6 | -1.0 | 3.4 | sun | 2.30 |\n",
       "| 2015-12-31 | 0 | 5.6 | -2.1 | 3.5 | sun | 1.75 |\n",
       "\n"
      ],
      "text/plain": [
       "     date       precipitation temp_max temp_min wind weather temp_avg\n",
       "1    2012-01-01  0.0          12.8     5.0      4.7  drizzle 8.90    \n",
       "2    2012-01-02 10.9          10.6     2.8      4.5  rain    6.70    \n",
       "3    2012-01-03  0.8          11.7     7.2      2.3  rain    9.45    \n",
       "⋮    ⋮          ⋮             ⋮        ⋮        ⋮    ⋮       ⋮       \n",
       "1459 2015-12-29 0             7.2       0.6     2.6  fog     3.90    \n",
       "1460 2015-12-30 0             5.6      -1.0     3.4  sun     2.30    \n",
       "1461 2015-12-31 0             5.6      -2.1     3.5  sun     1.75    "
      ]
     },
     "metadata": {},
     "output_type": "display_data"
    }
   ],
   "source": [
    "# Read the data into R (provided by https://www.kaggle.com/ananthr1/weather-prediction)\n",
    "weather_data <- read_csv(\"https://raw.githubusercontent.com/irisxu02/dsci100-group13/main/weather.csv\") %>%\n",
    "    mutate(weather = as_factor(weather),\n",
    "           temp_avg = (temp_max + temp_min)/2)\n",
    "weather_data"
   ]
  },
  {
   "cell_type": "markdown",
   "metadata": {},
   "source": [
    "## Data Analysis"
   ]
  },
  {
   "cell_type": "markdown",
   "metadata": {},
   "source": [
    "Here we perform ... ... write stuff here"
   ]
  },
  {
   "cell_type": "code",
   "execution_count": 14,
   "metadata": {},
   "outputs": [],
   "source": [
    "set.seed(100)"
   ]
  },
  {
   "cell_type": "code",
   "execution_count": 17,
   "metadata": {},
   "outputs": [],
   "source": [
    "# We split the data set into training and testing sets\n",
    "weather_split <- initial_split(weather_data, prop = 0.75, strata = weather)\n",
    "weather_train <- training(weather_split)\n",
    "weather_test <- testing(weather_split)"
   ]
  },
  {
   "cell_type": "code",
   "execution_count": null,
   "metadata": {},
   "outputs": [],
   "source": []
  }
 ],
 "metadata": {
  "kernelspec": {
   "display_name": "R",
   "language": "R",
   "name": "ir"
  },
  "language_info": {
   "codemirror_mode": "r",
   "file_extension": ".r",
   "mimetype": "text/x-r-source",
   "name": "R",
   "pygments_lexer": "r",
   "version": "4.0.0"
  }
 },
 "nbformat": 4,
 "nbformat_minor": 4
}
